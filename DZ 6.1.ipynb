{
 "cells": [
  {
   "cell_type": "markdown",
   "metadata": {},
   "source": [
    "## Домашнее задание к лекции Работа с файловой системой и модули"
   ]
  },
  {
   "cell_type": "markdown",
   "metadata": {},
   "source": [
    "Переведите содержимое файла purchase_log.txt в словарь purchases вида:\n",
    "\n",
    "{‘1840e0b9d4’: ‘Продукты’, …}\n",
    "\n",
    "Для каждого user_id в файле visit_log.csv определите третий столбец с категорией покупки (если покупка была, сам файл visit_log.csv изменять не надо). \n",
    "\n",
    "Запишите в файл funnel.csv визиты из файла visit_log.csv, в которых были покупки с указанием категории.\n",
    "\n",
    "#### Учтите условия на данные:\n",
    "\n",
    "содержимое purchase_log.txt помещается в оперативную память компьютера\n",
    "\n",
    "содержимое visit_log.csv - нет; используйте только построчную обработку этого файла"
   ]
  },
  {
   "cell_type": "code",
   "execution_count": 1,
   "metadata": {},
   "outputs": [],
   "source": [
    "import json\n",
    "i = 0\n",
    "dict_ = {}\n",
    "with open('purchase_log.txt', 'r', encoding='utf-8') as f:\n",
    "    for x in f:\n",
    "        \n",
    "        f1 = json.loads(x)\n",
    "        dict_[f1['user_id']] = f1['category']\n",
    "        #dict_ - словарь, куда загружаем все данные из файла purchase_log.txt\n",
    "        \n",
    "        i += 1\n",
    "        if i > 100:\n",
    "            break\n",
    "        \n",
    "f.close()\n",
    "#print(dict_)"
   ]
  },
  {
   "cell_type": "code",
   "execution_count": 2,
   "metadata": {},
   "outputs": [],
   "source": [
    "i2 = 0\n",
    "with open('visit_log.csv', 'r', encoding='utf-8') as visit_file:\n",
    "    \n",
    "    with open('funnel.csv', 'w', encoding='utf-8') as all_from_2_file:\n",
    "        \n",
    "        for line in visit_file:\n",
    "            lines = line.strip().split(',')\n",
    "            # преобразуем line в lines. Убираем лишнее и разделяем по запятой. Получим такой список ['user_id', 'source']\n",
    "            category = dict_.get(lines[0])\n",
    "            # проверка на значение ключа. Если нет, то возвращает None\n",
    "            if category != None:\n",
    "                # если значение ключа не None, т.е. Ключ имеется, то добавляем колонку со значением к lines\n",
    "                # и записываем это в файл, предварительно отформатировав в нужный нам вид\n",
    "                lines.append(category)\n",
    "                itog = f\"[{', '.join(lines)}]\"\n",
    "                all_from_2_file.write(itog + ' ')\n",
    "                    \n",
    "                i2 += 1\n",
    "                if i2 > 100:\n",
    "                    break\n",
    "                    \n",
    "                                        \n",
    "visit_file.close()\n",
    "all_from_2_file.close()\n",
    "           "
   ]
  },
  {
   "cell_type": "code",
   "execution_count": 3,
   "metadata": {
    "scrolled": true
   },
   "outputs": [
    {
     "data": {
      "text/plain": [
       "'[user_id, source, category] [1840e0b9d4, other, Продукты] [4e4f90fcfb, context, Электроника] [afea8d72fc, other, Электроника] [373a6055fe, other, Бытовая техника] [9b2ab046f3, other, Электроника] [9f39d307c3, context, Электроника] [44edeffc91, context, Продукты] [704474fa2d, other, Продукты] [1de31be403, other, Бытовая техника] [b71f36a5e4, other, Продукты] [79843a685a, context, Продукты] [ff68cee0d6, context, Бытовая техника] [e8447c40e2, email, Досуг] [98d290be27, other, Электроника] [fa0079a5a8, other, Досуг] [22d2f03a17, context, Досуг] [3f8e1ccd3f, other, Электроника] [81a9988b83, context, Электроника] [65f44a2eb7, context, Досуг] [5f8fbb0149, other, Бытовая техника] [3ecff691fd, context, Электроника] [dd0e912251, other, Электроника] [9250593d55, other, Электроника] [37c4e090e4, other, Электроника] [22fa3ea76f, other, Электроника] [73b876b237, context, Электроника] [f983a69d67, other, Товары для животных] [4ea17212f8, other, Продукты] [c6de96a5e2, other, Товары для животных] [d8e3bcee53, context, Продукты] [680aa815f9, other, Продукты] [4a92a68cf9, other, Электроника] [905e60cb52, other, Бытовая техника] [393bcfb298, other, Продукты] [06d450cc57, context, Электроника] [b60ce22f17, other, Электроника] [6f159c4c2e, other, Товары для животных] [564202f6bd, context, Электроника] [1908683775, other, Электроника] [8fd957a463, other, Продукты] [72e0a3f1d0, other, Бытовая техника] [7f5f56e517, other, Досуг] [bc1a0a7e26, other, Досуг] [17639fe89d, other, Досуг] [74c9201f84, context, Электроника] [bc4ebda0df, other, Досуг] [fe4615dd15, other, Досуг] [d2c560746d, other, Бытовая техника] [f0a93d52d2, other, Электроника] [fe52ded300, other, Электроника] [dbe70d84e4, context, Строительство и ремонт] [f660dbcc3f, context, Электроника] [f93283c9ee, other, Бытовая техника] [66bea9bf58, other, Бытовая техника] [111c52d9bc, other, Продукты] [16dc76e94d, other, Электроника] [87f37b380c, other, Продукты] [830421d975, other, Продукты] [7d6c62f0a2, context, Бытовая техника] [77465a0b61, other, Бытовая техника] [ee9eb52181, email, Товары для животных] [871c1fa9ae, other, Продукты] [03b91dba06, other, Электроника] [6cb42b2632, email, Бытовая техника] [9ab8f3bbb8, context, Бытовая техника] [63df9ee9d3, context, Электроника] [2ffd6c724d, other, Продукты] [af24cffd03, context, Электроника] [421149bb9a, other, Строительство и ремонт] [24300c6d1c, other, Электроника] [9ca11a651f, email, Электроника] [b7e640032f, other, Электроника] [3691ad282b, other, Электроника] [00ea2f7484, other, Электроника] [6f198ac1c9, other, Бытовая техника] [0d479d4259, other, Электроника] [b461051101, other, Досуг] [d39a1d56c3, context, Бытовая техника] [316ab03143, None, Товары для животных] [78ed39a415, other, Электроника] [19d1e4e036, context, Товары для животных] [9e765c6822, other, Продукты] [ddd50eaa45, other, Электроника] [c21b82499e, context, Электроника] [da79d9ff30, other, Товары для животных] [eded5c6792, context, Досуг] [e3654c7f1a, other, Досуг] [d20bf10c78, other, Бытовая техника] [12de58d8e6, other, Продукты] [de85ea0eb6, other, Электроника] [dfe6f4ebb4, other, Бытовая техника] [9d25ac3886, context, Досуг] [d47dd8b814, other, Электроника] [c5e1bf636a, context, Электроника] [a86e69db63, other, Продукты] [91802f78b2, other, Электроника] [152ea9bb42, other, Бытовая техника] [06569907e6, other, Бытовая техника] [9f5bf9b73f, other, Строительство и ремонт] [ec11793734, other, Продукты] '"
      ]
     },
     "execution_count": 3,
     "metadata": {},
     "output_type": "execute_result"
    }
   ],
   "source": [
    "f16 = open('funnel.csv', 'r', encoding='utf-8')\n",
    "f16.readline()"
   ]
  }
 ],
 "metadata": {
  "kernelspec": {
   "display_name": "Python 3",
   "language": "python",
   "name": "python3"
  },
  "language_info": {
   "codemirror_mode": {
    "name": "ipython",
    "version": 3
   },
   "file_extension": ".py",
   "mimetype": "text/x-python",
   "name": "python",
   "nbconvert_exporter": "python",
   "pygments_lexer": "ipython3",
   "version": "3.8.3"
  }
 },
 "nbformat": 4,
 "nbformat_minor": 4
}
